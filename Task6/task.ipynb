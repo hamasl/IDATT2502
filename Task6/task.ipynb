{
 "cells": [
  {
   "cell_type": "markdown",
   "metadata": {
    "collapsed": true,
    "pycharm": {
     "name": "#%% md\n"
    }
   },
   "source": [
    "# Task 6\n",
    "## Creating a feature selection"
   ]
  },
  {
   "cell_type": "code",
   "execution_count": 2,
   "outputs": [
    {
     "name": "stdout",
     "output_type": "stream",
     "text": [
      "The shape of y: (8124, 2)\n",
      "The shape of x: (8124, 117)\n",
      "The array containing the selected features from x: (8124, 3)\n",
      "Most discriminative features: ['odor_f', 'odor_n', 'stalk-surface-above-ring_k']\n"
     ]
    }
   ],
   "source": [
    "import pandas as pd\n",
    "from sklearn.feature_selection import SelectKBest\n",
    "from sklearn.feature_selection import chi2\n",
    "file = pd.read_csv(\"../CommonData/agaricus-lepiota.data\")\n",
    "#Removing edibility as this is target data\n",
    "y = file.pop(\"edibility\")\n",
    "x = pd.get_dummies(file)\n",
    "y = pd.get_dummies(y)\n",
    "sel = SelectKBest(chi2, k=3)\n",
    "x_new = sel.fit_transform(x, y)\n",
    "selected_features = [x.columns[i] for i in sel.get_support(indices=True) if i]\n",
    "print(f\"The shape of y: {y.shape}\")\n",
    "print(f\"The shape of x: {x.shape}\")\n",
    "print(f\"The array containing the selected features from x: {x_new.shape}\")\n",
    "print(f\"Most discriminative features: {selected_features}\")"
   ],
   "metadata": {
    "collapsed": false,
    "pycharm": {
     "name": "#%%\n"
    }
   }
  },
  {
   "cell_type": "markdown",
   "source": [
    "## Using psa to construct a reduced space"
   ],
   "metadata": {
    "collapsed": false,
    "pycharm": {
     "name": "#%% md\n"
    }
   }
  },
  {
   "cell_type": "code",
   "execution_count": 74,
   "outputs": [
    {
     "name": "stdout",
     "output_type": "stream",
     "text": [
      "PCA shape is (8124, 3)\n",
      "[10.31484925  9.42671062  8.35720548]\n",
      "             PC-1        PC-2        PC-3\n",
      "count  117.000000  117.000000  117.000000\n",
      "mean    -0.003151    0.005146    0.015455\n",
      "std      0.092794    0.092704    0.091541\n",
      "min     -0.240027   -0.229793   -0.287641\n",
      "25%     -0.051140   -0.030044   -0.026296\n",
      "50%     -0.011791    0.002011    0.006160\n",
      "75%      0.037798    0.054993    0.054639\n",
      "max      0.235773    0.242009    0.287641\n",
      "Features that add the most variance ['stalk-surface-above-ring_k', 'stalk-root_?', 'gill-attachment_a']\n"
     ]
    }
   ],
   "source": [
    "from sklearn import decomposition\n",
    "from sklearn import preprocessing\n",
    "import numpy as np\n",
    "x_pre = preprocessing.scale(x) #Pre processing the data\n",
    "\n",
    "# Defining pca, then transforming an viewing the results\n",
    "pca = decomposition.PCA(3)\n",
    "x_pca = pca.fit_transform(x_pre, y)\n",
    "print(f\"PCA shape is {x_pca.shape}\")\n",
    "print(pca.explained_variance_)\n",
    "\n",
    "\n",
    "# Transposing to sort feature by how much they impact each PC\n",
    "x_pca_by_pc = pd.DataFrame(np.transpose(pca.components_), columns=['PC-1','PC-2', 'PC-3'], index=x.columns)\n",
    "print(x_pca_by_pc.describe())\n",
    "\n",
    "\n",
    "most_variance_features_by_index = [pca.components_[i].argmax() for i in range(len(x_pca_by_pc.columns))]\n",
    "print(f\"Combinations of features that explain the most variance: {[x.columns[i] for i in most_variance_features_by_index]}\")"
   ],
   "metadata": {
    "collapsed": false,
    "pycharm": {
     "name": "#%%\n"
    }
   }
  },
  {
   "cell_type": "markdown",
   "source": [
    "It can be observed that stalk-surface-above-ring-k has been deemed as an impactful feature by both feature selection and feature extraction."
   ],
   "metadata": {
    "collapsed": false,
    "pycharm": {
     "name": "#%% md\n"
    }
   }
  }
 ],
 "metadata": {
  "kernelspec": {
   "display_name": "Python 3",
   "language": "python",
   "name": "python3"
  },
  "language_info": {
   "codemirror_mode": {
    "name": "ipython",
    "version": 2
   },
   "file_extension": ".py",
   "mimetype": "text/x-python",
   "name": "python",
   "nbconvert_exporter": "python",
   "pygments_lexer": "ipython2",
   "version": "2.7.6"
  }
 },
 "nbformat": 4,
 "nbformat_minor": 0
}