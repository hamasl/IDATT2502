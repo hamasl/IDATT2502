{
 "cells": [
  {
   "cell_type": "markdown",
   "metadata": {
    "collapsed": true,
    "pycharm": {
     "name": "#%% md\n"
    }
   },
   "source": [
    "# Task 6\n",
    "## Creating a feature selection"
   ]
  },
  {
   "cell_type": "code",
   "execution_count": 27,
   "outputs": [
    {
     "name": "stdout",
     "output_type": "stream",
     "text": [
      "The shape of y: (8124, 2)\n",
      "The shape of x: (8124, 117)\n",
      "The array containing the selected features from x: (8124, 2)\n",
      "The names of the selected features from x: ['odor_f', 'odor_n']\n"
     ]
    }
   ],
   "source": [
    "import pandas as pd\n",
    "from sklearn.feature_selection import SelectKBest\n",
    "from sklearn.feature_selection import chi2\n",
    "file = pd.read_csv(\"../CommonData/agaricus-lepiota.data\")\n",
    "y = file.pop(\"edibility\")\n",
    "x = pd.get_dummies(file)\n",
    "y = pd.get_dummies(y)\n",
    "sel = SelectKBest(chi2, k=2)\n",
    "x_new = sel.fit_transform(x, y)\n",
    "selected_features = [x.columns[i] for i in sel.get_support(indices=True) if i]\n",
    "print(f\"The shape of y: {y.shape}\")\n",
    "print(f\"The shape of x: {x.shape}\")\n",
    "print(f\"The array containing the selected features from x: {x_new.shape}\")\n",
    "print(f\"The names of the selected features from x: {selected_features}\")"
   ],
   "metadata": {
    "collapsed": false,
    "pycharm": {
     "name": "#%%\n"
    }
   }
  }
 ],
 "metadata": {
  "kernelspec": {
   "display_name": "Python 3",
   "language": "python",
   "name": "python3"
  },
  "language_info": {
   "codemirror_mode": {
    "name": "ipython",
    "version": 2
   },
   "file_extension": ".py",
   "mimetype": "text/x-python",
   "name": "python",
   "nbconvert_exporter": "python",
   "pygments_lexer": "ipython2",
   "version": "2.7.6"
  }
 },
 "nbformat": 4,
 "nbformat_minor": 0
}